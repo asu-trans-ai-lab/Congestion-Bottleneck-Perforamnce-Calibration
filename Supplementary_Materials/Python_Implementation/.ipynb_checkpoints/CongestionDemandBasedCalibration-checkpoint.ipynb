{
 "cells": [
  {
   "cell_type": "markdown",
   "id": "4d8029d9",
   "metadata": {},
   "source": [
    "Congestion Demand Based Calibration\n",
    "\n",
    "Please read this paper: https://doi.org/10.1016/j.multra.2022.100017"
   ]
  },
  {
   "cell_type": "code",
   "execution_count": 1,
   "id": "0d11d8b2",
   "metadata": {},
   "outputs": [],
   "source": [
    "import csv\n",
    "import time\n"
   ]
  },
  {
   "cell_type": "code",
   "execution_count": 6,
   "id": "88c2ad22",
   "metadata": {},
   "outputs": [
    {
     "data": {
      "text/plain": [
       "49"
      ]
     },
     "execution_count": 6,
     "metadata": {},
     "output_type": "execute_result"
    }
   ],
   "source": [
    "_NUMBER_OF_SECOND_PER_MIN = 60\n",
    "assign_period_start_time_in_hour = 6\n",
    "assign_period_end_time_in_hour = 10\n",
    "time_interval_in_min = 5\n",
    "number_of_interval = int((assign_period_end_time_in_hour - assign_period_start_time_in_hour) * 60 / 5) + 1 "
   ]
  },
  {
   "cell_type": "markdown",
   "id": "ba0a83d0",
   "metadata": {},
   "source": [
    "V: total lane-based volume loaded on a road link during an analysis period (i.e., AM, MD, PM, or NT)\n",
    "QDF: queued demand factor, QDF is used to convert V to D, which represents the percentage of congested flows within the entire analysis period\n",
    "D: inflow demand, which is the total volume within the \"congestion duration\" with a speed lower than 45 miles / hour\n",
    "(D can also be defined as: total in-flow demand during the entire congested period)\n",
    "t2: time index with maximum queue length\n",
    "L: time horizon\n",
    "C: lane-based ultimate hourly capacity\n",
    "vc: cut-off speed, which can be used systematically to distinguish \"congested\" vs. \"uncongested\" states of traffic bottleneck\n",
    "kc: critical density\n",
    "vf: free-flow speed\n",
    "mm: oversaturation parameter\n",
    "a: alpha used in QVDF function\n",
    "b: beta used in QVDF function"
   ]
  },
  {
   "cell_type": "code",
   "execution_count": 3,
   "id": "f5f265f6",
   "metadata": {},
   "outputs": [],
   "source": [
    "class Link:\n",
    "    def __init__(self, link_id, V, QDF, t2, L, C, vc, vf, mm, a, b):\n",
    "        self.link_id = link_id\n",
    "        self.V = float(V)\n",
    "        self.QDF = float(QDF)\n",
    "        self.t2 = float(t2)\n",
    "        self.L = float(L)\n",
    "        self.C = float(C)\n",
    "        self.vc = float(vc)\n",
    "        self.kc = self.C / max(0.0001, self.vc)\n",
    "        self.vf = float(vf)\n",
    "        self.mm = float(mm)\n",
    "        self.a = float(a)\n",
    "        self.b = float(b)"
   ]
  },
  {
   "cell_type": "code",
   "execution_count": 4,
   "id": "1f8375ca",
   "metadata": {},
   "outputs": [],
   "source": [
    "def CDBCalibration(_NUMBER_OF_SECOND_PER_MIN, assign_period_start_time_in_hour, assign_period_end_time_in_hour\n",
    "                   , time_interval_in_min, number_of_interval):\n",
    "    \"\"\"\n",
    "    Congestion Demand Based Calibration\n",
    "    \n",
    "    Input(link based):\n",
    "    private:\n",
    "    (1) Volume during assignment period——V\n",
    "    (2) QDF factor=Volume/Demand——QDF\n",
    "    (3) t2 intermediate time point of the congestion period——t2\n",
    "    (4) link length——L\n",
    "    public\n",
    "    (5) ultimate capacity——C\n",
    "    (6) critical speed——vc\n",
    "    (7) free flow speed——vf\n",
    "    (8) flatness of speed——mm\n",
    "    (9) cd_alpha——a\n",
    "    (10) cd_beta——b\n",
    "\n",
    "    Output(link based):\n",
    "    (1) Demand during assignment period——D\n",
    "    (2) D/C\n",
    "    (3) cd_speed——vcd\n",
    "    (4) cd_travel_time——ttcd\n",
    "    (5) average_discharge_rate——mu\n",
    "    (6) cd_waiting_time——wcd\n",
    "    (7) queue_demand——QD\n",
    "    (8) Gamma\n",
    "    (9) Congestion_duration——P\n",
    "    (10) t0,t3,\n",
    "    (11) t0',t3' no congestion \n",
    "    (12) Queue_max\n",
    "    \n",
    "    Time dependent queue\n",
    "    Time dependent travel time\n",
    "\n",
    "    \"\"\"\n",
    "    g_link_list = list()\n",
    "    with open(\"link.csv\", \"r\") as fp:\n",
    "        reader = csv.DictReader(fp)\n",
    "        for line in reader:\n",
    "            link = Link(line[\"link_id\"], line[\"assignment_period_volume\"], line[\"QDF\"], line[\"t2\"],\n",
    "                        line[\"length\"], line[\"ultimate_capacity\"], line[\"critical_speed\"],\n",
    "                        line[\"free_flow_speed\"], line[\"flatness_of_curve\"], line[\"cd_alpha\"], line[\"cd_beta\"])\n",
    "            g_link_list.append(link)\n",
    "\n",
    "    performance_fp = open(\"link_performance.csv\", \"w\", newline=\"\")\n",
    "    performance_writer = csv.writer(performance_fp)\n",
    "    line = [\"link_id\", \"demand\", \"D/C\", \"cd_speed\", \"cd_travel_time\", \"average_discharge_rate\",\n",
    "            \"cd_waiting_time\", \"queue_demand\", \"Gamma\", \"Congestion_duration\", \"t0\", \"t3\", \"t0'\", \"t3'\", \"Queue_max\"]\n",
    "    performance_writer.writerow(line)\n",
    "\n",
    "    td_queue_fp = open(\"td_queue.csv\", \"w\", newline=\"\")\n",
    "    td_speed_fp = open(\"td_speed.csv\", \"w\", newline=\"\")\n",
    "    td_queue_writer = csv.writer(td_queue_fp)\n",
    "    td_speed_writer = csv.writer(td_speed_fp)\n",
    "    line = [\"link_id\"]\n",
    "    init_time = time.struct_time([2021, 8, 15, assign_period_start_time_in_hour, 0, 0, 0, 0, 0])\n",
    "    init_time_mktime = time.mktime(init_time)\n",
    "    time_in_hour = list()\n",
    "    for t in range(number_of_interval):\n",
    "        time_str = time.strftime(\"%H:%M:%S\", time.localtime(init_time_mktime))\n",
    "        time_struc = time.localtime(init_time_mktime)\n",
    "        line.append(time_str)\n",
    "        time_in_hour.append(time_struc.tm_hour + time_struc.tm_min / 60 + time_struc.tm_sec / 3600)\n",
    "        init_time_mktime += time_interval_in_min * _NUMBER_OF_SECOND_PER_MIN\n",
    "    td_queue_writer.writerow(line)\n",
    "    td_speed_writer.writerow(line)\n",
    "\n",
    "    for link in g_link_list:\n",
    "        if link.V == 0:\n",
    "            continue\n",
    "        demand = link.V / link.QDF\n",
    "        D_C = demand / link.C\n",
    "        vcd = link.vf / (1 + link.a * pow(D_C, link.b))\n",
    "        ttcd = link.L / vcd\n",
    "        mu = vcd * link.kc * pow((pow(link.vf / vcd, link.mCm / 2) - 1), 1 / link.mm)\n",
    "        wcd = max(ttcd - link.L / link.vc, 0)\n",
    "        QD = demand\n",
    "        if wcd == 0:\n",
    "            QD = 0\n",
    "        gamma = 120 * mu * wcd * pow(mu / demand, 4)\n",
    "        P = QD / mu\n",
    "        t0 = link.t2 - 0.5 * P\n",
    "        t3 = link.t2 + 0.5 * P\n",
    "        t0_p = t0\n",
    "        t3_p = t3\n",
    "        if P == 0:\n",
    "            t0_p -= 0.5\n",
    "            t3_p += 0.5\n",
    "        Queue_max = 0.25 * gamma * pow((link.t2 - t0), 2) * pow((link.t2 - t3), 2)\n",
    "        performance_line = [link.link_id, demand, D_C, vcd, ttcd, mu,\n",
    "                            wcd, QD, gamma, P, t0, t3, t0_p, t3_p, round(Queue_max, 0)]\n",
    "        performance_writer.writerow(performance_line)\n",
    "\n",
    "        td_queue_line = [link.link_id]\n",
    "        td_speed_line = [link.link_id]\n",
    "        for t in time_in_hour:\n",
    "            if t0 <= t <= t3:\n",
    "                td_queue = 0.25 * gamma * pow((t - t0), 2) * pow((t - t3), 2)\n",
    "            else:\n",
    "                td_queue = 0\n",
    "            if P == 0:\n",
    "                if t < t0_p:\n",
    "                    td_speed = link.vf - ((link.vf - vcd) / (t0_p - assign_period_start_time_in_hour)) * (t - assign_period_start_time_in_hour)\n",
    "                elif t < t3_p:\n",
    "                    td_speed = link.vf - ((link.vf - vcd) / (assign_period_end_time_in_hour - t3_p)) * (assign_period_end_time_in_hour - t)\n",
    "                else:\n",
    "                    td_speed = vcd\n",
    "            else:\n",
    "                if t < t0_p:\n",
    "                    td_speed = link.vf - ((link.vf - link.vc) / (t0_p - assign_period_start_time_in_hour)) * (t - assign_period_start_time_in_hour)\n",
    "                elif t < t3_p:\n",
    "                    td_speed = link.vf - ((link.vf - link.vc) / (assign_period_end_time_in_hour - t3_p)) * (assign_period_end_time_in_hour - t)\n",
    "                else:\n",
    "                    td_speed = td_queue / mu\n",
    "\n",
    "            td_queue_line.append(round(td_queue, 0))\n",
    "            td_speed_line.append(td_speed)\n",
    "        td_queue_writer.writerow(td_queue_line)\n",
    "        td_speed_writer.writerow(td_speed_line)\n",
    "\n",
    "    performance_fp.close()\n",
    "    td_queue_fp.close()\n",
    "    td_speed_fp.close()\n"
   ]
  },
  {
   "cell_type": "code",
   "execution_count": 7,
   "id": "7b29d56e",
   "metadata": {},
   "outputs": [
    {
     "ename": "AttributeError",
     "evalue": "'Link' object has no attribute 'mCm'",
     "output_type": "error",
     "traceback": [
      "\u001b[1;31m---------------------------------------------------------------------------\u001b[0m",
      "\u001b[1;31mAttributeError\u001b[0m                            Traceback (most recent call last)",
      "Cell \u001b[1;32mIn[7], line 1\u001b[0m\n\u001b[1;32m----> 1\u001b[0m CDBCalibration(_NUMBER_OF_SECOND_PER_MIN, assign_period_start_time_in_hour, assign_period_end_time_in_hour\n\u001b[0;32m      2\u001b[0m                , time_interval_in_min, number_of_interval)\n",
      "Cell \u001b[1;32mIn[4], line 77\u001b[0m, in \u001b[0;36mCDBCalibration\u001b[1;34m(_NUMBER_OF_SECOND_PER_MIN, assign_period_start_time_in_hour, assign_period_end_time_in_hour, time_interval_in_min, number_of_interval)\u001b[0m\n\u001b[0;32m     75\u001b[0m vcd \u001b[38;5;241m=\u001b[39m link\u001b[38;5;241m.\u001b[39mvf \u001b[38;5;241m/\u001b[39m (\u001b[38;5;241m1\u001b[39m \u001b[38;5;241m+\u001b[39m link\u001b[38;5;241m.\u001b[39ma \u001b[38;5;241m*\u001b[39m \u001b[38;5;28mpow\u001b[39m(D_C, link\u001b[38;5;241m.\u001b[39mb))\n\u001b[0;32m     76\u001b[0m ttcd \u001b[38;5;241m=\u001b[39m link\u001b[38;5;241m.\u001b[39mL \u001b[38;5;241m/\u001b[39m vcd\n\u001b[1;32m---> 77\u001b[0m mu \u001b[38;5;241m=\u001b[39m vcd \u001b[38;5;241m*\u001b[39m link\u001b[38;5;241m.\u001b[39mkc \u001b[38;5;241m*\u001b[39m \u001b[38;5;28mpow\u001b[39m((\u001b[38;5;28mpow\u001b[39m(link\u001b[38;5;241m.\u001b[39mvf \u001b[38;5;241m/\u001b[39m vcd, link\u001b[38;5;241m.\u001b[39mmCm \u001b[38;5;241m/\u001b[39m \u001b[38;5;241m2\u001b[39m) \u001b[38;5;241m-\u001b[39m \u001b[38;5;241m1\u001b[39m), \u001b[38;5;241m1\u001b[39m \u001b[38;5;241m/\u001b[39m link\u001b[38;5;241m.\u001b[39mmm)\n\u001b[0;32m     78\u001b[0m wcd \u001b[38;5;241m=\u001b[39m \u001b[38;5;28mmax\u001b[39m(ttcd \u001b[38;5;241m-\u001b[39m link\u001b[38;5;241m.\u001b[39mL \u001b[38;5;241m/\u001b[39m link\u001b[38;5;241m.\u001b[39mvc, \u001b[38;5;241m0\u001b[39m)\n\u001b[0;32m     79\u001b[0m QD \u001b[38;5;241m=\u001b[39m demand\n",
      "\u001b[1;31mAttributeError\u001b[0m: 'Link' object has no attribute 'mCm'"
     ]
    }
   ],
   "source": [
    "CDBCalibration(_NUMBER_OF_SECOND_PER_MIN, assign_period_start_time_in_hour, assign_period_end_time_in_hour\n",
    "               , time_interval_in_min, number_of_interval)"
   ]
  }
 ],
 "metadata": {
  "kernelspec": {
   "display_name": "Python 3 (ipykernel)",
   "language": "python",
   "name": "python3"
  },
  "language_info": {
   "codemirror_mode": {
    "name": "ipython",
    "version": 3
   },
   "file_extension": ".py",
   "mimetype": "text/x-python",
   "name": "python",
   "nbconvert_exporter": "python",
   "pygments_lexer": "ipython3",
   "version": "3.11.4"
  }
 },
 "nbformat": 4,
 "nbformat_minor": 5
}
